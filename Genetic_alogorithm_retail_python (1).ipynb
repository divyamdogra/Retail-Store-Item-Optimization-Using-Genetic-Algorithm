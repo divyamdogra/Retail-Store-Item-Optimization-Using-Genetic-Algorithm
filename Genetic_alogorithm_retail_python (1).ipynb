{
  "nbformat": 4,
  "nbformat_minor": 0,
  "metadata": {
    "colab": {
      "provenance": []
    },
    "kernelspec": {
      "name": "python3",
      "display_name": "Python 3"
    },
    "language_info": {
      "name": "python"
    }
  },
  "cells": [
    {
      "cell_type": "markdown",
      "source": [
        "A **Genetic Algorithm** can be used to solve real-world business problems like **Merchandise Optimization**. In large stores like Target or Walmart, placing products on shelves involves complex planning and strategy. With hundreds of aisles and countless product combinations, GAs can help find the best arrangement to maximize efficiency and sales.\n",
        "\n",
        "Now imagine instead of filling up a knapsack, you have to properly allocate millions of dollars worth of resources for a particular project, optimize the inventory for different stages of an extensive supply chain.\n",
        "\n",
        "As mentioned previously, a **Genetic Algorithm is inspired by natural selection**. Natural Selection involves several individuals (a population) interacting and living within a particular environment. Over time, individuals with traits better suited for their specific environment will tend to last from generation to generation, while individuals with less suitable characteristics will die out."
      ],
      "metadata": {
        "id": "r9HaEqgf7iq1"
      }
    },
    {
      "cell_type": "markdown",
      "source": [
        "### The Scenario\n",
        "\n",
        "You are a data scientist for a retail company. The company just opened a micro store and has 50 products they would like to stock. Space is limited, so given that each product occupies a certain amount of space in addition to an estimated profit, you are tasked with finding the most profitable set of products to stock, given the space constraints."
      ],
      "metadata": {
        "id": "t8ScjJc-7oFJ"
      }
    },
    {
      "cell_type": "markdown",
      "source": [
        "### Solution — Create a Genetic Algorithm - Stepwise\n",
        "\n",
        "Knowing the countless solutions to this problem, you elect to utilize a genetic algorithm. Below is a list of the available products that can be stocked. Take note that our micro store only has 100 units of shelf space."
      ],
      "metadata": {
        "id": "h9ZiOMst7vIp"
      }
    },
    {
      "cell_type": "markdown",
      "source": [
        "### Code 1: Retail Store Items\n",
        "\n",
        "\n",
        "This part of the code defines a dictionary called retail_store_items. It lists various items that a retail store might sell, along with two pieces of information for each item:\n",
        "\n",
        "1. Shelf Space: How much space the item needs on the shelf.\n",
        "\n",
        "2. Expected Profit: How much profit the store expects to make from selling that item.\n",
        "\n",
        "          retail_store_items = {\n",
        "              \"Toothpaste\": {\"shelf_space\": 1, \"expected_profit\": 2.50},\n",
        "              \"Shampoo\": {\"shelf_space\": 3, \"expected_profit\": 3.75},\n",
        "              ...  }\n"
      ],
      "metadata": {
        "id": "HTlbGpdpY4az"
      }
    },
    {
      "cell_type": "code",
      "execution_count": 26,
      "metadata": {
        "id": "Ev5OFQc72y3_"
      },
      "outputs": [],
      "source": [
        "retail_store_items = {\n",
        "    \"Toothpaste\": {\"shelf_space\": 1, \"expected_profit\": 2.50},\n",
        "    \"Shampoo\": {\"shelf_space\": 3, \"expected_profit\": 3.75},\n",
        "    \"Conditioner\": {\"shelf_space\": 3, \"expected_profit\": 3.50},\n",
        "    \"Body Wash\": {\"shelf_space\": 3, \"expected_profit\": 3.00},\n",
        "    \"Deodorant\": {\"shelf_space\": 1, \"expected_profit\": 2.20},\n",
        "    \"Lotion\": {\"shelf_space\": 3, \"expected_profit\": 3.00},\n",
        "    \"Shaving Cream\": {\"shelf_space\": 2, \"expected_profit\": 2.50},\n",
        "    \"Razor Blades\": {\"shelf_space\": 1, \"expected_profit\": 4.50},\n",
        "    \"Mouthwash\": {\"shelf_space\": 2, \"expected_profit\": 2.00},\n",
        "    \"Hand Soap\": {\"shelf_space\": 1, \"expected_profit\": 1.50},\n",
        "    \"Facial Tissue\": {\"shelf_space\": 2, \"expected_profit\": 1.20},\n",
        "    \"Paper Towels\": {\"shelf_space\": 5, \"expected_profit\": 3.00},\n",
        "    \"Toilet Paper\": {\"shelf_space\": 5, \"expected_profit\": 2.80},\n",
        "    \"Dish Soap\": {\"shelf_space\": 3, \"expected_profit\": 2.75},\n",
        "    \"Laundry Detergent\": {\"shelf_space\": 6, \"expected_profit\": 4.50},\n",
        "    \"Fabric Softener\": {\"shelf_space\": 3, \"expected_profit\": 3.50},\n",
        "    \"Bleach\": {\"shelf_space\": 4, \"expected_profit\": 2.00},\n",
        "    \"All-Purpose Cleaner\": {\"shelf_space\": 3, \"expected_profit\": 2.50},\n",
        "    \"Glass Cleaner\": {\"shelf_space\": 2, \"expected_profit\": 2.00},\n",
        "    \"Furniture Polish\": {\"shelf_space\": 2, \"expected_profit\": 2.50},\n",
        "    \"Trash Bags\": {\"shelf_space\": 4, \"expected_profit\": 3.00},\n",
        "    \"Light Bulbs\": {\"shelf_space\": 2, \"expected_profit\": 1.50},\n",
        "    \"Batteries\": {\"shelf_space\": 1, \"expected_profit\": 2.00},\n",
        "    \"Extension Cords\": {\"shelf_space\": 3, \"expected_profit\": 4.00},\n",
        "    \"Pet Food\": {\"shelf_space\": 6, \"expected_profit\": 3.50},\n",
        "    \"Cat Litter\": {\"shelf_space\": 5, \"expected_profit\": 4.00},\n",
        "    \"Dog Leash\": {\"shelf_space\": 2, \"expected_profit\": 3.00},\n",
        "    \"Pet Shampoo\": {\"shelf_space\": 2, \"expected_profit\": 2.50},\n",
        "    \"Pet Toys\": {\"shelf_space\": 2, \"expected_profit\": 1.50},\n",
        "    \"Shower Curtain\": {\"shelf_space\": 4, \"expected_profit\": 3.00},\n",
        "    \"Bath Towels\": {\"shelf_space\": 4, \"expected_profit\": 4.00},\n",
        "    \"Bed Sheets\": {\"shelf_space\": 6, \"expected_profit\": 8.00},\n",
        "    \"Pillows\": {\"shelf_space\": 5, \"expected_profit\": 5.00},\n",
        "    \"Blankets\": {\"shelf_space\": 6, \"expected_profit\": 6.00},\n",
        "    \"Curtains\": {\"shelf_space\": 5, \"expected_profit\": 7.00},\n",
        "    \"Wall Clocks\": {\"shelf_space\": 3, \"expected_profit\": 4.50},\n",
        "    \"Picture Frames\": {\"shelf_space\": 2, \"expected_profit\": 2.00},\n",
        "    \"Candles\": {\"shelf_space\": 2, \"expected_profit\": 2.50},\n",
        "    \"Vases\": {\"shelf_space\": 3, \"expected_profit\": 3.00},\n",
        "    \"Decorative Pillows\": {\"shelf_space\": 4, \"expected_profit\": 3.50},\n",
        "    \"Alarm Clocks\": {\"shelf_space\": 2, \"expected_profit\": 2.00},\n",
        "    \"Phone Chargers\": {\"shelf_space\": 1, \"expected_profit\": 3.00},\n",
        "    \"USB Cables\": {\"shelf_space\": 1, \"expected_profit\": 1.50},\n",
        "    \"Headphones\": {\"shelf_space\": 2, \"expected_profit\": 5.00},\n",
        "    \"Laptop Sleeves\": {\"shelf_space\": 2, \"expected_profit\": 4.00},\n",
        "    \"Notebooks\": {\"shelf_space\": 2, \"expected_profit\": 1.50},\n",
        "    \"Pens\": {\"shelf_space\": 1, \"expected_profit\": 1.00},\n",
        "    \"Sticky Notes\": {\"shelf_space\": 1, \"expected_profit\": 1.00},\n",
        "    \"Folders\": {\"shelf_space\": 2, \"expected_profit\": 1.50},\n",
        "    \"Scissors\": {\"shelf_space\": 1, \"expected_profit\": 2.00}\n",
        "}\n"
      ]
    },
    {
      "cell_type": "markdown",
      "source": [
        "**Object Oriented Programming**\n",
        "\n",
        "\n",
        "To execute this solution, we will build two classes in Python: one that represents a combination of the available products we can choose from and one for our genetic algorithm to help us converge on the optimal combination of products to stock in the store."
      ],
      "metadata": {
        "id": "2HkBGqVe774O"
      }
    },
    {
      "cell_type": "code",
      "source": [
        "import random\n",
        "from tqdm import tqdm"
      ],
      "metadata": {
        "id": "AbIoXbkD73MH"
      },
      "execution_count": 27,
      "outputs": []
    },
    {
      "cell_type": "markdown",
      "source": [
        "### Individual Class\n",
        "\n",
        "As I just mentioned, our individual class will represent a combination of products from the retail_store_items dictionary. This class will have the following attributes:\n",
        "\n",
        "1. merch: a nested dictionary of the available items we can choose from.\n",
        "max_shelf_space: the maximum amount of shelf space our selection of items can occupy.\n",
        "\n",
        "2. chromosome: a list of 1s and 0s that will represent whether or not a product from merch is included. Each chromosome will have the same length of merch. The 1s and 0s will be generated at random.\n",
        "\n",
        "3. occupied_space: the amount of space occupied by the selected subset of merch. This will be calculated using a fitness function.\n",
        "\n",
        "4. total_expected_profit: the total amount of expected profit by the selected subset of merch. This will be calculated using a fitness function.\n",
        "\n",
        "5. generation: This will be a placeholder for an individual's generation once this class is incorporated into the genetic algorithm."
      ],
      "metadata": {
        "id": "jks4ghxu8Edm"
      }
    },
    {
      "cell_type": "code",
      "source": [
        "class Individual():\n",
        "    def __init__(self, merch, max_shelf_space):\n",
        "        self.merch = merch\n",
        "        self.max_shelf_space = max_shelf_space\n",
        "        self.chromosome = [random.choice([0, 1]) for _ in range(len(merch))]\n",
        "        self.occupied_space = 0\n",
        "        self.total_expected_profit = 0\n",
        "        self.generation = 0\n",
        "        self.fitness()  # Ensure fitness is called during initialization\n"
      ],
      "metadata": {
        "id": "s6bIOWmp8Bfx"
      },
      "execution_count": 28,
      "outputs": []
    },
    {
      "cell_type": "markdown",
      "source": [
        "**The Fitness method**\n",
        "\n",
        "\n",
        "Our fitness function will calculate two attributes for us: the occupied space and the total expected profit.\n",
        "\n",
        "To execute this, we will loop through the chromosome, use each 1 or 0 as a multiplier against each item's occupied space and expected profit, and add them to the attributes we mentioned.\n",
        "\n",
        "Note that total_expected_profit will automatically be 0 if our subset of products exceeds max_shelf_space.\n",
        "\n",
        "Remember, this will be the heart of our genetic algorithm; it is the driving force that will determine which combinations of products will permeate through generations to converge on the best solution."
      ],
      "metadata": {
        "id": "xEDZ64I58mfg"
      }
    },
    {
      "cell_type": "code",
      "source": [
        "    def fitness(self):\n",
        "        self.occupied_space = 0\n",
        "        self.total_expected_profit = 0\n",
        "        for (item, values), multiplier in zip(self.merch.items(), self.chromosome):\n",
        "            self.occupied_space += values['shelf_space'] * multiplier\n",
        "            self.total_expected_profit += values['expected_profit'] * multiplier\n",
        "            if self.occupied_space > self.max_shelf_space:\n",
        "                self.total_expected_profit = 0\n",
        "                break\n"
      ],
      "metadata": {
        "id": "BEGyOhsl8V91"
      },
      "execution_count": 29,
      "outputs": []
    },
    {
      "cell_type": "markdown",
      "source": [
        "The Crossover method\n",
        "\n",
        "\n",
        "Next, we will build our crossover function. This function will take two separate instances of an individual class, randomly generate two cutoff points for each instance's chromosome, and use it to create four new individual classes, essentially the children of these two individuals.\n",
        "\n",
        "Earlier, we discussed how the crossover would make two children. I'm building this function to ensure we have four because when we develop our genetic algorithm, I want a more comprehensive selection of child instances to permeate the next generation.\n",
        "\n",
        "Also, note how our generation attribute for each child would increase by 1 when this function is called."
      ],
      "metadata": {
        "id": "DwFJIFul81Xd"
      }
    },
    {
      "cell_type": "markdown",
      "source": [
        "In this code, a crossover operation is performed between two \"individuals\" (you and the \"partner\"). This is a key part of the genetic algorithm where two parents combine parts of their data (chromosomes) to create new \"children.\" Here's what happens step by step:\n",
        "\n",
        "1. Two cutoff points are chosen randomly in the chromosome (using cutoff_1 and cutoff_2), which determines where the chromosomes will be split.\n",
        "\n",
        "2. Four new children (child1, child2, child3, child4) are created:\n",
        "\n",
        "    2.1 Child 1 and Child 2 are created using the first cutoff point (cutoff_1):\n",
        "\n",
        "        2.1.1 Child 1 gets the start of the partner's chromosome and the end of the self's chromosome.\n",
        "\n",
        "        2.1.2 Child 2 gets the start of the self's chromosome and the end of the partner's chromosome.\n",
        "        \n",
        "    2.2 Child 3 and Child 4 are created similarly, but using the second cutoff point (cutoff_2).\n",
        "\n",
        "3. After forming the children, each child's fitness is calculated, which evaluates how good their solution is.\n",
        "\n",
        "The generation of each child is incremented by 1, meaning they belong to the next generation compared to the parent.\n",
        "\n",
        "Finally, the method returns the four children to continue the genetic algorithm process.\n",
        "\n",
        "This process simulates reproduction, where different combinations of chromosomes create variation in the new population."
      ],
      "metadata": {
        "id": "-SO1_Fixh6q_"
      }
    },
    {
      "cell_type": "code",
      "source": [
        "    def crossover(self, partner):\n",
        "        cutoff_1 = random.randint(1, len(self.chromosome) - 1)\n",
        "        cutoff_2 = random.randint(1, len(self.chromosome) - 1)\n",
        "\n",
        "        child1 = Individual(self.merch, self.max_shelf_space)\n",
        "        child2 = Individual(self.merch, self.max_shelf_space)\n",
        "        child3 = Individual(self.merch, self.max_shelf_space)\n",
        "        child4 = Individual(self.merch, self.max_shelf_space)\n",
        "\n",
        "        child1.chromosome = partner.chromosome[:cutoff_1] + self.chromosome[cutoff_1:]\n",
        "        child2.chromosome = self.chromosome[:cutoff_1] + partner.chromosome[cutoff_1:]\n",
        "        child3.chromosome = partner.chromosome[:cutoff_2] + self.chromosome[cutoff_2:]\n",
        "        child4.chromosome = self.chromosome[:cutoff_2] + partner.chromosome[cutoff_2:]\n",
        "\n",
        "        child1.fitness()\n",
        "        child2.fitness()\n",
        "        child3.fitness()\n",
        "        child4.fitness()\n",
        "\n",
        "        child1.generation = self.generation + 1\n",
        "        child2.generation = self.generation + 1\n",
        "        child3.generation = self.generation + 1\n",
        "        child4.generation = self.generation + 1\n",
        "\n",
        "        return child1, child2, child3, child4\n"
      ],
      "metadata": {
        "id": "BGygjxmX8tIu"
      },
      "execution_count": 30,
      "outputs": []
    },
    {
      "cell_type": "markdown",
      "source": [
        "The Mutation method\n",
        "\n",
        "\n",
        "As our algorithm progresses, there is a chance it won't converge appropriately because it didn't explore other combinations besides the ones that have been reinforced by our fitness and crossover function between generations.\n",
        "\n",
        " This is very similar to what happens when a neural network's learning rate is too high. This is where the mutation function comes in. Given a probability, our mutation function will randomly change one of an individual's chromosomes.\n",
        "\n",
        "It's as simple as that. When we code our genetic algorithm class, we will call the mutation function right after the crossover so that each generation's children can have a chance at forming a new attribute."
      ],
      "metadata": {
        "id": "lG0k8jJl9Dry"
      }
    },
    {
      "cell_type": "markdown",
      "source": [
        "In this code, a mutation operation is being performed on the individual's chromosome with a certain probability. Here's a breakdown of what happens:\n",
        "\n",
        "1. Mutation probability: The random.random() function generates a random number between 0 and 1. If this number is less than the rate, a mutation occurs. The rate is the probability of mutation, controlling how often mutations happen.\n",
        "\n",
        "2. Selecting a position: A random position in the chromosome is selected using random.randint(). This position (random_position) is where the mutation will take place.\n",
        "\n",
        "3. Flipping the gene: At the chosen position, the value of the gene (bit) in the chromosome is flipped:\n",
        "\n",
        "    If the gene is 1, it becomes 0.\n",
        "    If the gene is 0, it becomes 1. This simulates a mutation, introducing a small random change to the individual.\n",
        "\n",
        "4. Recalculate fitness: After the mutation, the individual's fitness is recalculated to see how the mutation affects the overall performance of this solution.\n",
        "\n",
        "In essence, this code introduces a small random change (mutation) to the individual's chromosome, which is key to maintaining genetic diversity in a population."
      ],
      "metadata": {
        "id": "HUzOX8gniy_Y"
      }
    },
    {
      "cell_type": "code",
      "source": [
        "    def mutation(self, rate):\n",
        "        if random.random() < rate:\n",
        "            random_position = random.randint(0, len(self.chromosome) - 1)\n",
        "            self.chromosome[random_position] = 1 - self.chromosome[random_position]\n",
        "            self.fitness()\n"
      ],
      "metadata": {
        "id": "1-a7uqrP9Bxs"
      },
      "execution_count": 31,
      "outputs": []
    },
    {
      "cell_type": "markdown",
      "source": [
        "View Stock Function\n",
        "\n",
        "I decided to add this optional function out of curiosity. It lets us quickly see the subset of products for an individual instance.\n"
      ],
      "metadata": {
        "id": "rgde_wxS9PFa"
      }
    },
    {
      "cell_type": "markdown",
      "source": [
        "In this view_shelf method, the code is iterating over the items in the self.merch dictionary and printing certain items based on values in the self.chromosome list. Here’s what happens step by step:\n",
        "\n",
        "1. Iterating through items and chromosomes:\n",
        "\n",
        "    The method uses a for loop with zip() to loop over both self.merch.items() and self.chromosome at the same time.\n",
        "\n",
        "    self.merch.items() refers to the dictionary items where item is the key (e.g., the name of a product) and values is the associated value (e.g., details of the product).\n",
        "\n",
        "    self.chromosome is a list of binary values (0s and 1s) representing whether an item should be included on the shelf.\n",
        "\n",
        "2. Checking the multiplier (chromosome):\n",
        "\n",
        "    For each item in self.merch, the corresponding value in self.chromosome (called multiplier) is checked.\n",
        "\n",
        "    If the multiplier is 1, the item is printed, meaning it is \"selected\" to be shown on the shelf.\n",
        "\n",
        "3. Printing selected items:\n",
        "\n",
        "    Only items with a corresponding multiplier of 1 are printed, representing which items are chosen to be on the shelf (likely as part of the genetic algorithm's solution).\n",
        "\n",
        "\n",
        "In summary, this method prints the items from self.merch where the corresponding value in self.chromosome is 1, effectively showing a \"shelf\" of selected items based on the genetic algorithm's chromosome."
      ],
      "metadata": {
        "id": "SCsOi9vlmmba"
      }
    },
    {
      "cell_type": "code",
      "source": [
        "    def view_shelf(self):\n",
        "        for (item, values), multiplier in zip(self.merch.items(), self.chromosome):\n",
        "            if multiplier == 1:\n",
        "                print(item)\n"
      ],
      "metadata": {
        "id": "PBRYwXUB9M6t"
      },
      "execution_count": 32,
      "outputs": []
    },
    {
      "cell_type": "markdown",
      "source": [
        "### Genetic Algorithm Class\n",
        "\n",
        "\n",
        "The stage is set to build our Genetic Algorithm class. Ultimately, this class will run the natural selection simulation and store the best-performing individuals as they are identified. This class will have the following attributes:\n",
        "\n",
        "    population_size: the size of each population within each iteration of the algorithm.\n",
        "\n",
        "    num_of_generations: the total number of iterations to run.\n",
        "\n",
        "    mutation_rate: the mutation rate to be applied to each child when the crossover function is called in the individual class.\n",
        "\n",
        "    max_shelf_space: identical to the same attribute in the individual class.\n",
        "\n",
        "    items: the nested dictionary of available items to choose from.\n",
        "\n",
        "    best_expected_profit: the placeholder for the best total_expected_profit recorded from all iterations.\n",
        "\n",
        "    best_Individuals: a list where each subsequent Individual class is added to when it is revealed it beats the latest best_expected_profit.\n",
        "\n",
        "    population: a list where each generation's population will be applied to."
      ],
      "metadata": {
        "id": "Xr-7-z9v9XvQ"
      }
    },
    {
      "cell_type": "code",
      "source": [
        "class GeneticAlgorithm():\n",
        "    def __init__(self, population_size, num_of_generations, mutation_rate, max_shelf_space, items):\n",
        "        self.population_size = population_size\n",
        "        self.num_of_generations = num_of_generations\n",
        "        self.mutation_rate = mutation_rate\n",
        "        self.max_shelf_space = max_shelf_space\n",
        "        self.items = items\n",
        "        self.best_expected_profit = 0\n",
        "        self.best_individuals = []\n",
        "        self.population = []\n"
      ],
      "metadata": {
        "id": "uD8a1bUg9VFo"
      },
      "execution_count": 33,
      "outputs": []
    },
    {
      "cell_type": "markdown",
      "source": [
        "The run_simulation method\n",
        "\n",
        "\n",
        "Looking at the code below, this method may look complicated, but it becomes straightforward once you break it down. It starts by creating an initial population of Individual objects. From this population, we will check to see if each object's total_expected_profit is higher than the best_expected_profit attribute.\n",
        "\n",
        "\n",
        "After the initial population is created, we will shuffle it randomly and apply the crossover function to every group of two. Shuffling at this stage and subsequent populations ensures we exploit as many combinations as possible. For each population, we will take every two individual objects in the population list and run the crossover method on them. Four children are created from this method, the mutation method is applied, and finally, we append to a list that we sort by the total_expected_profit. Only the top two children make it to the subsequent population, and check to see if they have a higher total_expected_profit than best_expected_profit. Ensuring the top two children make it to the next generation is key to ensuring we are continuing to converge on an even better solution."
      ],
      "metadata": {
        "id": "qa1XcRqa9lq7"
      }
    },
    {
      "cell_type": "markdown",
      "source": [
        "\n",
        "This run_simulation method is running a genetic algorithm to find the best solution for maximizing profit in a merchandising problem. Here’s what happens step by step:\n",
        "\n",
        "1. Initial Population:\n",
        "\n",
        "1.1 A population of individuals is created.\n",
        "\n",
        "1.2 For each individual:\n",
        "\n",
        "  1.2.1 An Individual is initialized with merchandise (self.items) and a maximum shelf space (self.max_shelf_space).\n",
        "\n",
        "  1.2.2 The individual's expected profit is calculated.\n",
        "\n",
        "  1.2.3. The best individual(s) are tracked:\n",
        "\n",
        "      If the individual's profit is greater than the current best profit, it becomes the new best.\n",
        "\n",
        "      Otherwise, if the profit is equal to or above the lowest profit in the best group, they are added to the best group.\n",
        "\n",
        "2. Subsequent Generations:\n",
        "\n",
        "2.1 The simulation evolves over a set number of generations (self.num_of_generations), where the population improves over time.\n",
        "\n",
        "2.2 The population is shuffled randomly at the start of each generation.\n",
        "\n",
        "3. Crossover & Mutation:\n",
        "\n",
        "3.1 For each pair of individuals (parents) in the shuffled population:\n",
        "\n",
        "      3.1.1 A crossover is performed between two parents to create four children.\n",
        "\n",
        "      3.1.2 Each child undergoes a mutation, where random changes are introduced based on the mutation rate (self.mutation_rate).\n",
        "\n",
        "      3.1.3 The four children are sorted by their total expected profit.\n",
        "\n",
        "      3.1.4 The top 2 children are selected as the best offspring and are added to the next generation.\n",
        "\n",
        "      3.1.5 The best individual(s) are updated if any of the top children exceed the current best expected profit.\n",
        "\n",
        "4. New Population:\n",
        "\n",
        "4.1 After all pairs have produced offspring, the new population consists of the best 2 children from each pair.\n",
        "\n",
        "4.2 The population is updated for the next generation.\n",
        "\n",
        "\n",
        "**Purpose:**\n",
        "The goal of this simulation is to maximize the total expected profit by evolving a population of potential solutions (individuals) through crossover, mutation, and selection. The best individuals are tracked and updated over multiple generations, with the genetic algorithm improving the population over time."
      ],
      "metadata": {
        "id": "FL9JcXzQnDp2"
      }
    },
    {
      "cell_type": "code",
      "source": [
        "    def run_simulation(self):\n",
        "        #### Initial Population ####\n",
        "        for i in range(self.population_size):\n",
        "            individual = Individual(merch=self.items, max_shelf_space=self.max_shelf_space)\n",
        "            self.population.append(individual)\n",
        "            if individual.total_expected_profit > self.best_expected_profit:\n",
        "                self.best_expected_profit = individual.total_expected_profit\n",
        "                self.best_individuals = [individual]\n",
        "            else:\n",
        "                self.best_individuals = [ind for ind in self.best_individuals if ind.total_expected_profit >= individual.total_expected_profit]\n",
        "                self.best_individuals.append(individual)\n",
        "\n",
        "        #### Subsequent Generations ####\n",
        "        for g in tqdm(range(self.num_of_generations)):\n",
        "            random.shuffle(self.population)\n",
        "            new_population = []\n",
        "\n",
        "            #### Crossover between each pair ####\n",
        "            for pair in range(0, len(self.population), 2):\n",
        "                parent_1 = self.population[pair]\n",
        "                parent_2 = self.population[pair + 1]\n",
        "                child_1, child_2, child_3, child_4 = parent_1.crossover(partner=parent_2)\n",
        "                child_1.mutation(rate=self.mutation_rate)\n",
        "                child_2.mutation(rate=self.mutation_rate)\n",
        "                child_3.mutation(rate=self.mutation_rate)\n",
        "                child_4.mutation(rate=self.mutation_rate)\n",
        "                all_children = [child_1, child_2, child_3, child_4]\n",
        "                all_children.sort(key=lambda x: x.total_expected_profit, reverse=True)\n",
        "                top_children = all_children[:2]\n",
        "                if top_children[0].total_expected_profit > self.best_expected_profit:\n",
        "                    self.best_expected_profit = top_children[0].total_expected_profit\n",
        "                    self.best_individuals = [top_children[0]]\n",
        "                elif top_children[1].total_expected_profit > self.best_expected_profit:\n",
        "                    self.best_expected_profit = top_children[1].total_expected_profit\n",
        "                    self.best_individuals = [top_children[1]]\n",
        "                new_population.append(top_children[0])\n",
        "                new_population.append(top_children[1])\n",
        "\n",
        "            #### Assign new population ####\n",
        "            self.population = new_population\n"
      ],
      "metadata": {
        "id": "2Q0CSwJ39i_j"
      },
      "execution_count": 34,
      "outputs": []
    },
    {
      "cell_type": "markdown",
      "source": [
        "Running the Genetic Algorithm\n",
        "\n",
        "\n",
        "We can now run our Genetic Algorithm! We should find a solution that makes the most of the available space and maximizes our expected profit. However, how will we know if our solution is a good one? The best solution I came up with is comparing our genetic algorithm to a baseline. To do this, we will create another class called RandomAlgorithm that generates Individual classes at random and checks to see which one has the best total_expected_profit. The code for this is below for reference."
      ],
      "metadata": {
        "id": "KKpze-Lq9q-J"
      }
    },
    {
      "cell_type": "code",
      "source": [
        "class RandomAlgorithm():\n",
        "    def __init__(self, iterations, max_shelf_space, items):\n",
        "        self.iterations = iterations\n",
        "        self.max_shelf_space = max_shelf_space\n",
        "        self.items = items\n",
        "        self.best_individuals = []\n",
        "        self.best_expected_profit = 0\n",
        "\n",
        "    def fitness(self):\n",
        "        pass  # Implement fitness function logic here\n",
        "\n",
        "    def run_simulation(self):\n",
        "        #### Initial Population ####\n",
        "        for i in tqdm(range(self.iterations)):\n",
        "            trial = Individual(merch=self.items, max_shelf_space=self.max_shelf_space)\n",
        "            trial.fitness()\n",
        "            if trial.total_expected_profit > self.best_expected_profit:\n",
        "                self.best_expected_profit = trial.total_expected_profit\n",
        "                self.best_individuals = [trial]\n"
      ],
      "metadata": {
        "id": "a35B9jyF9pL0"
      },
      "execution_count": 35,
      "outputs": []
    },
    {
      "cell_type": "markdown",
      "source": [
        "## Combine code"
      ],
      "metadata": {
        "id": "tbX9O6OgYtNn"
      }
    },
    {
      "cell_type": "markdown",
      "source": [
        "This code simulates how a retail store can decide which items to place on a shelf to maximize profit, while also considering the space available. It uses a genetic algorithm and a random algorithm to find the best combination of items to place on the shelf.\n",
        "\n",
        "1. Retail Store Items: This dictionary contains items like toothpaste and shampoo, with their required shelf space and expected profit.\n",
        "\n",
        "2. Individual Class: Each \"individual\" represents a possible combination of items on the shelf. The chromosome (a list of 0s and 1s) shows whether an item is on the shelf (1) or not (0). The fitness() function checks if the individual is profitable without exceeding the shelf space.\n",
        "\n",
        "3. Crossover: This method creates new individuals by mixing two parents' chromosomes (two existing combinations of items). Two children are produced, and their profitability is calculated.\n",
        "\n",
        "4. Mutation: Occasionally, one item in the individual’s chromosome might flip from 0 to 1 (or vice versa), simulating small random changes.\n",
        "\n",
        "5. GeneticAlgorithm Class: This runs the main simulation. It starts with a random population of individuals (combinations of items) and goes through generations, where parents are crossed over, mutated, and the best combinations survive to the next generation.\n",
        "\n",
        "6. RandomAlgorithm Class: A simpler version that just tries random combinations of items to find the best one.\n",
        "\n",
        "\n",
        "In the end, the code helps to find the best selection of items to place on a shelf that maximizes profit without going over the shelf space limit."
      ],
      "metadata": {
        "id": "QR9caqtDov9k"
      }
    },
    {
      "cell_type": "code",
      "source": [
        "# Code 1: Retail Store Items\n",
        "retail_store_items = {\n",
        "    \"Toothpaste\": {\"shelf_space\": 1, \"expected_profit\": 2.50},\n",
        "    \"Shampoo\": {\"shelf_space\": 3, \"expected_profit\": 3.75},\n",
        "    \"Conditioner\": {\"shelf_space\": 3, \"expected_profit\": 3.50},\n",
        "    \"Body Wash\": {\"shelf_space\": 3, \"expected_profit\": 3.00},\n",
        "    \"Deodorant\": {\"shelf_space\": 1, \"expected_profit\": 2.20},\n",
        "    \"Lotion\": {\"shelf_space\": 3, \"expected_profit\": 3.00},\n",
        "    \"Shaving Cream\": {\"shelf_space\": 2, \"expected_profit\": 2.50},\n",
        "    \"Razor Blades\": {\"shelf_space\": 1, \"expected_profit\": 4.50},\n",
        "    \"Mouthwash\": {\"shelf_space\": 2, \"expected_profit\": 2.00},\n",
        "    \"Hand Soap\": {\"shelf_space\": 1, \"expected_profit\": 1.50},\n",
        "    \"Facial Tissue\": {\"shelf_space\": 2, \"expected_profit\": 1.20},\n",
        "    \"Paper Towels\": {\"shelf_space\": 5, \"expected_profit\": 3.00},\n",
        "    \"Toilet Paper\": {\"shelf_space\": 5, \"expected_profit\": 2.80},\n",
        "    \"Dish Soap\": {\"shelf_space\": 3, \"expected_profit\": 2.75},\n",
        "    \"Laundry Detergent\": {\"shelf_space\": 6, \"expected_profit\": 4.50},\n",
        "    \"Fabric Softener\": {\"shelf_space\": 3, \"expected_profit\": 3.50},\n",
        "    \"Bleach\": {\"shelf_space\": 4, \"expected_profit\": 2.00},\n",
        "    \"All-Purpose Cleaner\": {\"shelf_space\": 3, \"expected_profit\": 2.50},\n",
        "    \"Glass Cleaner\": {\"shelf_space\": 2, \"expected_profit\": 2.00},\n",
        "    \"Furniture Polish\": {\"shelf_space\": 2, \"expected_profit\": 2.50},\n",
        "    \"Trash Bags\": {\"shelf_space\": 4, \"expected_profit\": 3.00},\n",
        "    \"Light Bulbs\": {\"shelf_space\": 2, \"expected_profit\": 1.50},\n",
        "    \"Batteries\": {\"shelf_space\": 1, \"expected_profit\": 2.00},\n",
        "    \"Extension Cords\": {\"shelf_space\": 3, \"expected_profit\": 4.00},\n",
        "    \"Pet Food\": {\"shelf_space\": 6, \"expected_profit\": 3.50},\n",
        "    \"Cat Litter\": {\"shelf_space\": 5, \"expected_profit\": 4.00},\n",
        "    \"Dog Leash\": {\"shelf_space\": 2, \"expected_profit\": 3.00},\n",
        "    \"Pet Shampoo\": {\"shelf_space\": 2, \"expected_profit\": 2.50},\n",
        "    \"Pet Toys\": {\"shelf_space\": 2, \"expected_profit\": 1.50},\n",
        "    \"Shower Curtain\": {\"shelf_space\": 4, \"expected_profit\": 3.00},\n",
        "    \"Bath Towels\": {\"shelf_space\": 4, \"expected_profit\": 4.00},\n",
        "    \"Bed Sheets\": {\"shelf_space\": 6, \"expected_profit\": 8.00},\n",
        "    \"Pillows\": {\"shelf_space\": 5, \"expected_profit\": 5.00},\n",
        "    \"Blankets\": {\"shelf_space\": 6, \"expected_profit\": 6.00},\n",
        "    \"Curtains\": {\"shelf_space\": 5, \"expected_profit\": 7.00},\n",
        "    \"Wall Clocks\": {\"shelf_space\": 3, \"expected_profit\": 4.50},\n",
        "    \"Picture Frames\": {\"shelf_space\": 2, \"expected_profit\": 2.00},\n",
        "    \"Candles\": {\"shelf_space\": 2, \"expected_profit\": 2.50},\n",
        "    \"Vases\": {\"shelf_space\": 3, \"expected_profit\": 3.00},\n",
        "    \"Decorative Pillows\": {\"shelf_space\": 4, \"expected_profit\": 3.50},\n",
        "    \"Alarm Clocks\": {\"shelf_space\": 2, \"expected_profit\": 2.00},\n",
        "    \"Phone Chargers\": {\"shelf_space\": 1, \"expected_profit\": 3.00},\n",
        "    \"USB Cables\": {\"shelf_space\": 1, \"expected_profit\": 1.50},\n",
        "    \"Headphones\": {\"shelf_space\": 2, \"expected_profit\": 5.00},\n",
        "    \"Laptop Sleeves\": {\"shelf_space\": 2, \"expected_profit\": 4.00},\n",
        "    \"Notebooks\": {\"shelf_space\": 2, \"expected_profit\": 1.50},\n",
        "    \"Pens\": {\"shelf_space\": 1, \"expected_profit\": 1.00},\n",
        "    \"Sticky Notes\": {\"shelf_space\": 1, \"expected_profit\": 1.00},\n",
        "    \"Folders\": {\"shelf_space\": 2, \"expected_profit\": 1.50},\n",
        "    \"Scissors\": {\"shelf_space\": 1, \"expected_profit\": 2.00}\n",
        "}\n",
        "\n",
        "# Code 2: Import Required Libraries\n",
        "import random\n",
        "from tqdm import tqdm\n",
        "\n",
        "# Code 3: Individual Class\n",
        "class Individual:\n",
        "    def __init__(self, merch, max_shelf_space):\n",
        "        self.merch = merch\n",
        "        self.max_shelf_space = max_shelf_space\n",
        "        self.chromosome = [random.choice([0, 1]) for _ in range(len(merch))]\n",
        "        self.occupied_space = 0\n",
        "        self.total_expected_profit = 0\n",
        "        self.generation = 0\n",
        "        self.fitness()  # Calculate fitness on initialization\n",
        "\n",
        "    def fitness(self):\n",
        "        self.occupied_space = 0\n",
        "        self.total_expected_profit = 0\n",
        "        for (item, values), multiplier in zip(self.merch.items(), self.chromosome):\n",
        "            self.occupied_space += values['shelf_space'] * multiplier\n",
        "            self.total_expected_profit += values['expected_profit'] * multiplier\n",
        "            if self.occupied_space > self.max_shelf_space:\n",
        "                self.total_expected_profit = 0\n",
        "                break\n",
        "\n",
        "    def crossover(self, partner):\n",
        "        cutoff_1 = random.randint(1, len(self.chromosome) - 1)\n",
        "        cutoff_2 = random.randint(1, len(self.chromosome) - 1)\n",
        "        if cutoff_1 > cutoff_2:\n",
        "            cutoff_1, cutoff_2 = cutoff_2, cutoff_1\n",
        "\n",
        "        child1 = Individual(self.merch, self.max_shelf_space)\n",
        "        child2 = Individual(self.merch, self.max_shelf_space)\n",
        "        child1.chromosome = self.chromosome[:cutoff_1] + partner.chromosome[cutoff_1:cutoff_2] + self.chromosome[cutoff_2:]\n",
        "        child2.chromosome = partner.chromosome[:cutoff_1] + self.chromosome[cutoff_1:cutoff_2] + partner.chromosome[cutoff_2:]\n",
        "\n",
        "        child1.fitness()\n",
        "        child2.fitness()\n",
        "\n",
        "        child1.generation = self.generation + 1\n",
        "        child2.generation = self.generation + 1\n",
        "\n",
        "        return child1, child2\n",
        "\n",
        "    def mutation(self, rate):\n",
        "        if random.random() < rate:\n",
        "            random_position = random.randint(0, len(self.chromosome) - 1)\n",
        "            self.chromosome[random_position] = 1 - self.chromosome[random_position]\n",
        "            self.fitness()\n",
        "\n",
        "    def view_shelf(self):\n",
        "        for (item, values), multiplier in zip(self.merch.items(), self.chromosome):\n",
        "            if multiplier == 1:\n",
        "                print(item)\n",
        "\n",
        "# Code 8: GeneticAlgorithm Class\n",
        "class GeneticAlgorithm:\n",
        "    def __init__(self, population_size, num_of_generations, mutation_rate, max_shelf_space, items):\n",
        "        self.population_size = population_size\n",
        "        self.num_of_generations = num_of_generations\n",
        "        self.mutation_rate = mutation_rate\n",
        "        self.max_shelf_space = max_shelf_space\n",
        "        self.items = items\n",
        "        self.best_expected_profit = 0\n",
        "        self.best_individuals = []\n",
        "        self.population = []\n",
        "\n",
        "    def run_simulation(self):\n",
        "        #### Initial Population ####\n",
        "        for i in range(self.population_size):\n",
        "            individual = Individual(merch=self.items, max_shelf_space=self.max_shelf_space)\n",
        "            self.population.append(individual)\n",
        "            if individual.total_expected_profit > self.best_expected_profit:\n",
        "                self.best_expected_profit = individual.total_expected_profit\n",
        "                self.best_individuals.append(individual)\n",
        "\n",
        "        #### Subsequent Populations ####\n",
        "        for g in tqdm(range(self.num_of_generations)):\n",
        "            random.shuffle(self.population)\n",
        "            new_population = []\n",
        "\n",
        "            #### Crossover between each pair ####\n",
        "            for pair in range(0, len(self.population), 2):\n",
        "                parent_1 = self.population[pair]\n",
        "                parent_2 = self.population[pair + 1]\n",
        "                child_1, child_2 = parent_1.crossover(parent_2)\n",
        "                child_1.mutation(rate=self.mutation_rate)\n",
        "                child_2.mutation(rate=self.mutation_rate)\n",
        "                all_children = [child_1, child_2]\n",
        "                all_children.sort(key=lambda x: x.total_expected_profit, reverse=True)\n",
        "                top_children = all_children[:2]\n",
        "                if top_children[0].total_expected_profit > self.best_expected_profit:\n",
        "                    self.best_expected_profit = top_children[0].total_expected_profit\n",
        "                    self.best_individuals.append(top_children[0])\n",
        "                if top_children[1].total_expected_profit > self.best_expected_profit:\n",
        "                    self.best_expected_profit = top_children[1].total_expected_profit\n",
        "                    self.best_individuals.append(top_children[1])\n",
        "                new_population.append(top_children[0])\n",
        "                new_population.append(top_children[1])\n",
        "\n",
        "            #### Assign population as the new population ####\n",
        "            self.population = new_population\n",
        "\n",
        "# Code 10: RandomAlgorithm Class\n",
        "class RandomAlgorithm:\n",
        "    def __init__(self, iterations, max_shelf_space, items):\n",
        "        self.iterations = iterations\n",
        "        self.max_shelf_space = max_shelf_space\n",
        "        self.items = items\n",
        "        self.best_individuals = []\n",
        "        self.best_expected_profit = 0\n",
        "\n",
        "    def run_simulation(self):\n",
        "        #### Initial Population ####\n",
        "        for i in tqdm(range(self.iterations)):\n",
        "            trial = Individual(merch=self.items, max_shelf_space=self.max_shelf_space)\n",
        "            trial.fitness()\n",
        "            if trial.total_expected_profit > self.best_expected_profit:\n",
        "                self.best_expected_profit = trial.total_expected_profit\n",
        "                self.best_individuals.append(trial)\n",
        "\n"
      ],
      "metadata": {
        "id": "uRebzzXTEO2J"
      },
      "execution_count": 36,
      "outputs": []
    },
    {
      "cell_type": "markdown",
      "source": [
        "**Trial Run 1 — 1,000 instances**\n",
        "\n",
        "\n",
        "Now, let's do our first trial run. We will run our Genetic Algorithm through 10 generations, with each population being of size 100, which yields 1,000 total Individual classes created.\n",
        "\n",
        "In addition, we will designate our Random Algorithm to generate 1,000 classes. Note that our max_shelf_space will be 100. Check out the results below!"
      ],
      "metadata": {
        "id": "Ns-DUNxo9wXz"
      }
    },
    {
      "cell_type": "code",
      "source": [
        "# Code 11: Run Random Algorithm\n",
        "ra = RandomAlgorithm(iterations=1000, max_shelf_space=100, items=retail_store_items)\n",
        "ra.run_simulation()\n",
        "\n"
      ],
      "metadata": {
        "colab": {
          "base_uri": "https://localhost:8080/"
        },
        "id": "BpWa2uBuVPZT",
        "outputId": "d3a6662c-bb66-49a8-fd3c-8058b9544be2"
      },
      "execution_count": 37,
      "outputs": [
        {
          "output_type": "stream",
          "name": "stderr",
          "text": [
            "100%|██████████| 1000/1000 [00:00<00:00, 4899.06it/s]\n"
          ]
        }
      ]
    },
    {
      "cell_type": "code",
      "source": [
        "ra.best_expected_profit"
      ],
      "metadata": {
        "colab": {
          "base_uri": "https://localhost:8080/"
        },
        "id": "7dF_fVxEViYa",
        "outputId": "d609b80d-a33b-4812-d402-256d440bb5c7"
      },
      "execution_count": 38,
      "outputs": [
        {
          "output_type": "execute_result",
          "data": {
            "text/plain": [
              "107.2"
            ]
          },
          "metadata": {},
          "execution_count": 38
        }
      ]
    },
    {
      "cell_type": "code",
      "source": [
        "# Code 12: Run Genetic Algorithm\n",
        "GA = GeneticAlgorithm(population_size=100, num_of_generations=10, mutation_rate=0.01, items=retail_store_items, max_shelf_space=100)\n",
        "GA.run_simulation()"
      ],
      "metadata": {
        "colab": {
          "base_uri": "https://localhost:8080/"
        },
        "id": "S0olMLQPVPWR",
        "outputId": "83774539-8ea5-4d45-995f-58f96e06531d"
      },
      "execution_count": 39,
      "outputs": [
        {
          "output_type": "stream",
          "name": "stderr",
          "text": [
            "100%|██████████| 10/10 [00:00<00:00, 27.20it/s]\n"
          ]
        }
      ]
    },
    {
      "cell_type": "code",
      "source": [
        "GA.best_expected_profit"
      ],
      "metadata": {
        "colab": {
          "base_uri": "https://localhost:8080/"
        },
        "id": "4sZeyYQ6VknZ",
        "outputId": "b488a654-a523-4742-999b-9a86998f28c8"
      },
      "execution_count": 40,
      "outputs": [
        {
          "output_type": "execute_result",
          "data": {
            "text/plain": [
              "110.7"
            ]
          },
          "metadata": {},
          "execution_count": 40
        }
      ]
    },
    {
      "cell_type": "markdown",
      "source": [
        "**Our Genetic Algorithm won the first round** with the slight best-expected profit of 107 vs. 107.25! Let's see if this gap increases as we increase the iterations.\n",
        "\n",
        "Next up, let's try out 10,000 instances."
      ],
      "metadata": {
        "id": "ckTj9St0Eflg"
      }
    },
    {
      "cell_type": "markdown",
      "source": [
        "**Trial Run 2— 10,000 instances**"
      ],
      "metadata": {
        "id": "K68s_KicWQ_Z"
      }
    },
    {
      "cell_type": "code",
      "source": [
        "ra = RandomAlgorithm(iterations=10000, max_shelf_space=100, items=retail_store_items)\n",
        "ra.run_simulation()"
      ],
      "metadata": {
        "colab": {
          "base_uri": "https://localhost:8080/"
        },
        "id": "2OyEKpwSVosp",
        "outputId": "238fb96e-8dc2-483c-8cbe-6552d002e138"
      },
      "execution_count": 41,
      "outputs": [
        {
          "output_type": "stream",
          "name": "stderr",
          "text": [
            "100%|██████████| 10000/10000 [00:02<00:00, 4820.83it/s]\n"
          ]
        }
      ]
    },
    {
      "cell_type": "code",
      "source": [
        "ra.best_expected_profit"
      ],
      "metadata": {
        "colab": {
          "base_uri": "https://localhost:8080/"
        },
        "id": "WT-tmam6WXO6",
        "outputId": "b60711aa-f4a9-4c1f-c2f3-a45899e4ca45"
      },
      "execution_count": 42,
      "outputs": [
        {
          "output_type": "execute_result",
          "data": {
            "text/plain": [
              "112.45"
            ]
          },
          "metadata": {},
          "execution_count": 42
        }
      ]
    },
    {
      "cell_type": "code",
      "source": [
        "GA = GeneticAlgorithm(population_size=100, num_of_generations=100, mutation_rate=0.01, items=retail_store_items, max_shelf_space=100)\n",
        "GA.run_simulation()"
      ],
      "metadata": {
        "colab": {
          "base_uri": "https://localhost:8080/"
        },
        "id": "Gg1XMg-NWaaX",
        "outputId": "4efc9fe0-2751-4c6b-efc8-7ac88d5c4a30"
      },
      "execution_count": 43,
      "outputs": [
        {
          "output_type": "stream",
          "name": "stderr",
          "text": [
            "100%|██████████| 100/100 [00:01<00:00, 74.20it/s]\n"
          ]
        }
      ]
    },
    {
      "cell_type": "code",
      "source": [
        "GA.best_expected_profit"
      ],
      "metadata": {
        "colab": {
          "base_uri": "https://localhost:8080/"
        },
        "id": "78ySIaefWkWN",
        "outputId": "90aea8e5-8139-4c54-deaf-33176d09d25a"
      },
      "execution_count": 44,
      "outputs": [
        {
          "output_type": "execute_result",
          "data": {
            "text/plain": [
              "111.4"
            ]
          },
          "metadata": {},
          "execution_count": 44
        }
      ]
    },
    {
      "cell_type": "markdown",
      "source": [
        "Once again, our Genetic Algorithm won! I am curious to see how this result varies if we use a population size of 1,000 with 10 generations instead of 100 and 100 generations. Let's see what happens."
      ],
      "metadata": {
        "id": "fyEa83I_Wn_k"
      }
    },
    {
      "cell_type": "code",
      "source": [
        "GA = GeneticAlgorithm(population_size=1000, num_of_generations=10, mutation_rate=0.01, items=retail_store_items, max_shelf_space=100)\n",
        "GA.run_simulation()"
      ],
      "metadata": {
        "colab": {
          "base_uri": "https://localhost:8080/"
        },
        "id": "-xHCvw_pWmbD",
        "outputId": "3fe34498-f802-49e7-d3cd-0f3edd6dca86"
      },
      "execution_count": 45,
      "outputs": [
        {
          "output_type": "stream",
          "name": "stderr",
          "text": [
            "100%|██████████| 10/10 [00:00<00:00, 12.30it/s]\n"
          ]
        }
      ]
    },
    {
      "cell_type": "code",
      "source": [
        "GA.best_expected_profit"
      ],
      "metadata": {
        "colab": {
          "base_uri": "https://localhost:8080/"
        },
        "id": "cvecrlT_Wx7S",
        "outputId": "471f7a75-f7d7-4871-9004-161a0d4e99f0"
      },
      "execution_count": 46,
      "outputs": [
        {
          "output_type": "execute_result",
          "data": {
            "text/plain": [
              "111.0"
            ]
          },
          "metadata": {},
          "execution_count": 46
        }
      ]
    },
    {
      "cell_type": "markdown",
      "source": [
        "Our expected profit went down. Would this always be the case? I have some ideas on how to test this, but we will explore that in a future article! For now, let's keep the focus on testing the Genetic Algorithm vs. the random approach.\n",
        "\n",
        "Finally, let's see what happens with 100,000 iterations. Our Genetic Algorithm will have populations of 1,000 and 100 generations."
      ],
      "metadata": {
        "id": "k6GF3ORBW1PJ"
      }
    },
    {
      "cell_type": "markdown",
      "source": [
        "**Trial Run 3–100,000 instances**"
      ],
      "metadata": {
        "id": "jdKS_oRJW8cj"
      }
    },
    {
      "cell_type": "code",
      "source": [
        "ra = RandomAlgorithm(iterations=100000, max_shelf_space=100, items=retail_store_items)\n",
        "ra.run_simulation()"
      ],
      "metadata": {
        "colab": {
          "base_uri": "https://localhost:8080/"
        },
        "id": "weGh2Q4EWzDe",
        "outputId": "5eb24338-3400-4a92-9639-f116daf2b555"
      },
      "execution_count": 47,
      "outputs": [
        {
          "output_type": "stream",
          "name": "stderr",
          "text": [
            "100%|██████████| 100000/100000 [00:07<00:00, 12850.92it/s]\n"
          ]
        }
      ]
    },
    {
      "cell_type": "code",
      "source": [
        "ra.best_expected_profit"
      ],
      "metadata": {
        "colab": {
          "base_uri": "https://localhost:8080/"
        },
        "id": "ZALEHvqtXcV1",
        "outputId": "f0b7e736-02ef-49fb-d055-4bc6a4fffacd"
      },
      "execution_count": 48,
      "outputs": [
        {
          "output_type": "execute_result",
          "data": {
            "text/plain": [
              "115.8"
            ]
          },
          "metadata": {},
          "execution_count": 48
        }
      ]
    },
    {
      "cell_type": "code",
      "source": [
        "GA = GeneticAlgorithm(population_size=1000, num_of_generations=100, mutation_rate=0.01, items=retail_store_items, max_shelf_space=100)\n",
        "GA.run_simulation()"
      ],
      "metadata": {
        "colab": {
          "base_uri": "https://localhost:8080/"
        },
        "id": "sWy_GqygXfCT",
        "outputId": "d408050a-7272-4f9b-bf01-364b325ce62f"
      },
      "execution_count": 49,
      "outputs": [
        {
          "output_type": "stream",
          "name": "stderr",
          "text": [
            "100%|██████████| 100/100 [00:09<00:00, 10.04it/s]\n"
          ]
        }
      ]
    },
    {
      "cell_type": "code",
      "source": [
        "GA.best_expected_profit"
      ],
      "metadata": {
        "colab": {
          "base_uri": "https://localhost:8080/"
        },
        "id": "jeNIB7TeXgse",
        "outputId": "741578d2-0179-45e6-dc53-3517d4f09cf8"
      },
      "execution_count": 50,
      "outputs": [
        {
          "output_type": "execute_result",
          "data": {
            "text/plain": [
              "113.4"
            ]
          },
          "metadata": {},
          "execution_count": 50
        }
      ]
    },
    {
      "cell_type": "markdown",
      "source": [
        "Although our Genetic Algorithm won, the expected profit seems to oscillate between 117 and 125. Luckily, our Genetic Algorithm object saves each instance of the Individual who becomes the new \"best Individual.\" Using this information, we can visualize the generations where a new \"best Individual\" was revealed and their expected profits. This will help us see where our algorithm converges. I've listed out the code below to plot this using Seaborn."
      ],
      "metadata": {
        "id": "QPvfoUXnXqPb"
      }
    },
    {
      "cell_type": "code",
      "source": [],
      "metadata": {
        "id": "D-eZebhoXtif"
      },
      "execution_count": 50,
      "outputs": []
    }
  ]
}